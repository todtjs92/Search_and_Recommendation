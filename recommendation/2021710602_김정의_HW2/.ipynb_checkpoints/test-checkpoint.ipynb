{
 "cells": [
  {
   "cell_type": "code",
   "execution_count": 1,
   "id": "2289808a",
   "metadata": {},
   "outputs": [
    {
     "name": "stdout",
     "output_type": "stream",
     "text": [
      "SlopeOnePredictor_explicit.predict() is correct\n"
     ]
    }
   ],
   "source": [
    "from models.SlopeOnePredictor_explicit import SlopeOnePredictor_explicit\n",
    "\n",
    "import warnings\n",
    "import random\n",
    "import warnings\n",
    "\n",
    "import numpy as np\n",
    "import random\n",
    "\n",
    "\n",
    "warnings.filterwarnings('ignore')\n",
    "\n",
    "\n",
    "def seed_everything(random_seed):\n",
    "    np.random.seed(random_seed)\n",
    "    torch.manual_seed(random_seed)\n",
    "    torch.cuda.manual_seed(random_seed)\n",
    "    torch.cuda.manual_seed_all(random_seed)\n",
    "    torch.backends.cudnn.deterministic = True\n",
    "    torch.backends.cudnn.benchmark = False\n",
    "    np.random.seed(random_seed)\n",
    "    random.seed(random_seed)\n",
    "\n",
    "\n",
    "\n",
    "sample_data = [\n",
    "    [2, 5, 0],\n",
    "    [3, 2, 5],\n",
    "    [4, 0, 3],\n",
    "]\n",
    "sample_data = np.array(sample_data, dtype=np.float32) \n",
    "\n",
    "sop = SlopeOnePredictor_explicit(train=np.copy(sample_data), valid=sample_data)\n",
    "sop.fit()\n",
    "try:\n",
    "    assert (4.333333333333333 - sop.predict(user_id=0, item_ids=[2])[0]) < 0.00001\n",
    "    print(\"SlopeOnePredictor_explicit.predict() is correct\")\n",
    "except:\n",
    "    print(\"SlopeOnePredictor_explicit.predict() is wrong\")"
   ]
  },
  {
   "cell_type": "code",
   "execution_count": 2,
   "id": "2556ebdd",
   "metadata": {},
   "outputs": [
    {
     "data": {
      "text/plain": [
       "[4.333333333333333]"
      ]
     },
     "execution_count": 2,
     "metadata": {},
     "output_type": "execute_result"
    }
   ],
   "source": [
    "sop.predict(user_id=0, item_ids=[2])"
   ]
  },
  {
   "cell_type": "code",
   "execution_count": null,
   "id": "b71a5edb",
   "metadata": {},
   "outputs": [],
   "source": []
  },
  {
   "cell_type": "code",
   "execution_count": 2,
   "id": "cc0c5e6b",
   "metadata": {},
   "outputs": [],
   "source": [
    "# 기본 패키지 import\n",
    "from time import time\n",
    "import numpy as np\n",
    "from utils import load_data\n",
    "from utils import eval_explicit\n",
    "import warnings\n",
    "import random\n",
    "import warnings\n",
    "\n",
    "import numpy as np\n",
    "import random\n",
    "\n",
    "\n",
    "warnings.filterwarnings('ignore')\n"
   ]
  },
  {
   "cell_type": "code",
   "execution_count": 51,
   "id": "6e464253",
   "metadata": {},
   "outputs": [],
   "source": [
    "sample_data = [\n",
    "    [2, 5, np.nan],\n",
    "    [3, 2, 5],\n",
    "    [4, np.nan, 3],\n",
    "]"
   ]
  },
  {
   "cell_type": "code",
   "execution_count": 58,
   "id": "9bab8d73",
   "metadata": {},
   "outputs": [],
   "source": [
    "sample_data = np.array(sample_data, dtype=np.float32)"
   ]
  },
  {
   "cell_type": "code",
   "execution_count": 59,
   "id": "740384dc",
   "metadata": {},
   "outputs": [],
   "source": [
    "user_id= 0"
   ]
  },
  {
   "cell_type": "code",
   "execution_count": 60,
   "id": "3ecbc07b",
   "metadata": {},
   "outputs": [],
   "source": [
    "item_ids = [2]"
   ]
  },
  {
   "cell_type": "code",
   "execution_count": 61,
   "id": "15ccdf69",
   "metadata": {},
   "outputs": [],
   "source": [
    "predicted_values = []\n",
    "    # user i가 시청한 item들\n",
    "rated_items = np.where(~np.isnan(sample_data[user_id,:]))[0]\n",
    "for one_missing_item in item_ids:\n",
    "    # ========================= EDIT HERE ========================\n",
    "    # [user_id, one_missing_item] 구하기\n",
    "    bunmo = 0\n",
    "    bunza = 0\n",
    "    for r in rated_items:\n",
    "\n",
    "        temp = sample_data[:,one_missing_item] - sample_data[:,r]\n",
    "        item_counting = sum( ~np.isnan(temp) )\n",
    "        temp_mean = np.nanmean(temp)\n",
    "\n",
    "        if np.isnan(temp_mean):\n",
    "            continue\n",
    "        else:\n",
    "\n",
    "            user_plus_mean =sample_data[user_id,r]+ temp_mean\n",
    "            bunza  += user_plus_mean * item_counting\n",
    "            bunmo  += item_counting\n",
    "\n",
    "    predicted_values.append( bunza/bunmo)"
   ]
  },
  {
   "cell_type": "code",
   "execution_count": 62,
   "id": "be470472",
   "metadata": {},
   "outputs": [
    {
     "data": {
      "text/plain": [
       "[4.333333333333333]"
      ]
     },
     "execution_count": 62,
     "metadata": {},
     "output_type": "execute_result"
    }
   ],
   "source": [
    "predicted_values"
   ]
  },
  {
   "cell_type": "code",
   "execution_count": null,
   "id": "ed23db49",
   "metadata": {},
   "outputs": [],
   "source": []
  },
  {
   "cell_type": "code",
   "execution_count": null,
   "id": "6647310c",
   "metadata": {},
   "outputs": [],
   "source": []
  },
  {
   "cell_type": "code",
   "execution_count": null,
   "id": "54f59584",
   "metadata": {},
   "outputs": [],
   "source": []
  },
  {
   "cell_type": "code",
   "execution_count": null,
   "id": "bb5586c7",
   "metadata": {},
   "outputs": [],
   "source": []
  },
  {
   "cell_type": "code",
   "execution_count": null,
   "id": "16be83a7",
   "metadata": {},
   "outputs": [],
   "source": []
  },
  {
   "cell_type": "code",
   "execution_count": 43,
   "id": "3f644b49",
   "metadata": {},
   "outputs": [],
   "source": [
    "ssss=   np.where(~np.isnan(sample_data[0,:]))[0]"
   ]
  },
  {
   "cell_type": "code",
   "execution_count": 45,
   "id": "36d31176",
   "metadata": {},
   "outputs": [
    {
     "name": "stdout",
     "output_type": "stream",
     "text": [
      "0\n",
      "1\n"
     ]
    }
   ],
   "source": [
    "for i  in ssss:\n",
    "    print(i)"
   ]
  },
  {
   "cell_type": "code",
   "execution_count": 38,
   "id": "14ca508b",
   "metadata": {},
   "outputs": [
    {
     "data": {
      "text/plain": [
       "array([nan,  5.,  3.], dtype=float32)"
      ]
     },
     "execution_count": 38,
     "metadata": {},
     "output_type": "execute_result"
    }
   ],
   "source": [
    "sample_data[:,2]"
   ]
  },
  {
   "cell_type": "code",
   "execution_count": 50,
   "id": "4e41863b",
   "metadata": {},
   "outputs": [
    {
     "data": {
      "text/plain": [
       "2"
      ]
     },
     "execution_count": 50,
     "metadata": {},
     "output_type": "execute_result"
    }
   ],
   "source": [
    "sum( ~np.isnan(sample_data[:,2]) )"
   ]
  },
  {
   "cell_type": "code",
   "execution_count": 46,
   "id": "9fb1f660",
   "metadata": {},
   "outputs": [
    {
     "data": {
      "text/plain": [
       "4.0"
      ]
     },
     "execution_count": 46,
     "metadata": {},
     "output_type": "execute_result"
    }
   ],
   "source": [
    "np.nanmean(sample_data[:,2])"
   ]
  },
  {
   "cell_type": "code",
   "execution_count": 47,
   "id": "aec25e19",
   "metadata": {},
   "outputs": [
    {
     "data": {
      "text/plain": [
       "nan"
      ]
     },
     "execution_count": 47,
     "metadata": {},
     "output_type": "execute_result"
    }
   ],
   "source": [
    "np.nanmean([np.nan,np.nan,np.nan])"
   ]
  },
  {
   "cell_type": "code",
   "execution_count": null,
   "id": "a0195e97",
   "metadata": {},
   "outputs": [],
   "source": []
  },
  {
   "cell_type": "code",
   "execution_count": 39,
   "id": "9a957b8b",
   "metadata": {},
   "outputs": [
    {
     "data": {
      "text/plain": [
       "array([nan,  3., nan], dtype=float32)"
      ]
     },
     "execution_count": 39,
     "metadata": {},
     "output_type": "execute_result"
    }
   ],
   "source": [
    "sample_data[:,2] - sample_data[:,1]"
   ]
  },
  {
   "cell_type": "code",
   "execution_count": null,
   "id": "1b67ab27",
   "metadata": {},
   "outputs": [],
   "source": []
  },
  {
   "cell_type": "code",
   "execution_count": null,
   "id": "6fb9559e",
   "metadata": {},
   "outputs": [],
   "source": []
  },
  {
   "cell_type": "code",
   "execution_count": 33,
   "id": "4c42f308",
   "metadata": {},
   "outputs": [],
   "source": [
    "item_iter =  list(range(len(sample_data[0])))"
   ]
  },
  {
   "cell_type": "code",
   "execution_count": 34,
   "id": "d111aa15",
   "metadata": {},
   "outputs": [
    {
     "data": {
      "text/plain": [
       "2"
      ]
     },
     "execution_count": 34,
     "metadata": {},
     "output_type": "execute_result"
    }
   ],
   "source": [
    "item_iter.pop(2)"
   ]
  },
  {
   "cell_type": "code",
   "execution_count": 35,
   "id": "b7ea90a8",
   "metadata": {},
   "outputs": [
    {
     "data": {
      "text/plain": [
       "[0, 1]"
      ]
     },
     "execution_count": 35,
     "metadata": {},
     "output_type": "execute_result"
    }
   ],
   "source": [
    "item_iter"
   ]
  },
  {
   "cell_type": "code",
   "execution_count": null,
   "id": "150cfcdc",
   "metadata": {},
   "outputs": [],
   "source": []
  },
  {
   "cell_type": "code",
   "execution_count": 12,
   "id": "d3866c98",
   "metadata": {},
   "outputs": [
    {
     "name": "stdout",
     "output_type": "stream",
     "text": [
      "[[0.]]\n",
      "[]\n",
      "[[0.]]\n"
     ]
    }
   ],
   "source": [
    "for i, row in enumerate(sample_data):\n",
    "    print(sample_data[i, np.where(row < 0.5)])\n",
    "    "
   ]
  },
  {
   "cell_type": "code",
   "execution_count": 14,
   "id": "ca36e1b7",
   "metadata": {},
   "outputs": [],
   "source": [
    "tL = [2, 5, np.nan]"
   ]
  },
  {
   "cell_type": "code",
   "execution_count": 26,
   "id": "d821ae7f",
   "metadata": {},
   "outputs": [
    {
     "data": {
      "text/plain": [
       "array([ True,  True, False])"
      ]
     },
     "execution_count": 26,
     "metadata": {},
     "output_type": "execute_result"
    }
   ],
   "source": [
    "~np.isnan(tL)"
   ]
  },
  {
   "cell_type": "code",
   "execution_count": 27,
   "id": "dcc585e4",
   "metadata": {},
   "outputs": [],
   "source": [
    "listt  = np.argwhere(~np.isnan(tL))"
   ]
  },
  {
   "cell_type": "code",
   "execution_count": 29,
   "id": "b7ccbf19",
   "metadata": {},
   "outputs": [
    {
     "name": "stdout",
     "output_type": "stream",
     "text": [
      "0\n",
      "1\n"
     ]
    }
   ],
   "source": [
    "for i in listt:\n",
    "    print(i[0])"
   ]
  },
  {
   "cell_type": "code",
   "execution_count": null,
   "id": "c3b0577b",
   "metadata": {},
   "outputs": [],
   "source": [
    "np.where(~np.isnan(self.train[user_id,:]))[0]"
   ]
  },
  {
   "cell_type": "code",
   "execution_count": 5,
   "id": "d88dd57f",
   "metadata": {},
   "outputs": [
    {
     "ename": "NameError",
     "evalue": "name 'row' is not defined",
     "output_type": "error",
     "traceback": [
      "\u001b[0;31m---------------------------------------------------------------------------\u001b[0m",
      "\u001b[0;31mNameError\u001b[0m                                 Traceback (most recent call last)",
      "\u001b[0;32m/var/folders/kr/z0vkrxjj5bq7lqpnzwpy9s_c0000gn/T/ipykernel_1748/213034166.py\u001b[0m in \u001b[0;36m<module>\u001b[0;34m\u001b[0m\n\u001b[0;32m----> 1\u001b[0;31m \u001b[0msample_data\u001b[0m\u001b[0;34m[\u001b[0m\u001b[0;36m0\u001b[0m\u001b[0;34m,\u001b[0m \u001b[0mnp\u001b[0m\u001b[0;34m.\u001b[0m\u001b[0mwhere\u001b[0m\u001b[0;34m(\u001b[0m\u001b[0mrow\u001b[0m \u001b[0;34m<\u001b[0m \u001b[0;36m0.5\u001b[0m\u001b[0;34m)\u001b[0m\u001b[0;34m]\u001b[0m\u001b[0;34m\u001b[0m\u001b[0;34m\u001b[0m\u001b[0m\n\u001b[0m",
      "\u001b[0;31mNameError\u001b[0m: name 'row' is not defined"
     ]
    }
   ],
   "source": [
    "sample_data[0, np.where(row < 0.5)] "
   ]
  },
  {
   "cell_type": "code",
   "execution_count": null,
   "id": "1508c3f4",
   "metadata": {},
   "outputs": [],
   "source": [
    "sample_data[i, np.where(row < 0.5)[0]] "
   ]
  },
  {
   "cell_type": "markdown",
   "id": "ccf7445d",
   "metadata": {},
   "source": [
    "# Nonlocal test"
   ]
  },
  {
   "cell_type": "code",
   "execution_count": 42,
   "id": "b90f3dfd",
   "metadata": {},
   "outputs": [],
   "source": [
    "class Upper:\n",
    "    def __init__(self,name,age,job):\n",
    "        self.name = name\n",
    "        self.age  = age\n",
    "        self.job  = job\n",
    "    \n",
    "    def method1(self):\n",
    "        answer = self.job +1\n",
    "        print(answer)\n",
    "        return answer\n",
    "        "
   ]
  },
  {
   "cell_type": "code",
   "execution_count": 43,
   "id": "c3e3761c",
   "metadata": {},
   "outputs": [],
   "source": [
    "class Downer:\n",
    "    def __init__(self, job):\n",
    "        self.job= job\n",
    "        self.model = Upper('Fisher' ,29,self.job)\n",
    "    \n",
    "    def fit(self):\n",
    "        self.model.method1()"
   ]
  },
  {
   "cell_type": "code",
   "execution_count": 44,
   "id": "8d0c1411",
   "metadata": {},
   "outputs": [],
   "source": [
    "instance = Downer(10)"
   ]
  },
  {
   "cell_type": "code",
   "execution_count": 45,
   "id": "9dcfe28a",
   "metadata": {},
   "outputs": [
    {
     "name": "stdout",
     "output_type": "stream",
     "text": [
      "11\n"
     ]
    }
   ],
   "source": [
    "a = instance.fit()"
   ]
  },
  {
   "cell_type": "markdown",
   "id": "1f85c17c",
   "metadata": {},
   "source": [
    "# Main.py"
   ]
  },
  {
   "cell_type": "code",
   "execution_count": 1,
   "id": "66eff05d",
   "metadata": {},
   "outputs": [
    {
     "name": "stdout",
     "output_type": "stream",
     "text": [
      "# of users: 6040,  # of items: 3706,  # of ratings: 1000209\n",
      "model training...\n",
      "training time:  70.85752582550049\n",
      "model evaluation\n",
      "evaluation time:  73.51092791557312\n",
      "RMSE on Test Data\n",
      "MF: 0.880406\n",
      "BiasedMF: 0.883980\n",
      "SVD++: 14.953893\n"
     ]
    }
   ],
   "source": [
    "# 기본 패키지 import\n",
    "from time import time\n",
    "import numpy as np\n",
    "from utils import load_data\n",
    "from utils import eval_explicit\n",
    "import warnings\n",
    "import random\n",
    "import warnings\n",
    "\n",
    "import numpy as np\n",
    "import random\n",
    "import torch\n",
    "\n",
    "warnings.filterwarnings('ignore')\n",
    "\n",
    "def seed_everything(random_seed):\n",
    "    np.random.seed(random_seed)\n",
    "    torch.manual_seed(random_seed)\n",
    "    torch.cuda.manual_seed(random_seed)\n",
    "    torch.cuda.manual_seed_all(random_seed)\n",
    "    torch.backends.cudnn.deterministic = True\n",
    "    torch.backends.cudnn.benchmark = False\n",
    "    np.random.seed(random_seed)\n",
    "    random.seed(random_seed)\n",
    "\n",
    "seed = 1\n",
    "seed_everything(seed)\n",
    "\n",
    "\n",
    "from models.MF_explicit import MF_explicit\n",
    "from models.BiasedMF_explicit import BiasedMF_explicit\n",
    "from models.SVDpp_explicit import SVDpp_explicit\n",
    "\n",
    "\"\"\"\n",
    "dataset loading\n",
    "\"\"\"\n",
    "dataset = \"movielens_1m.csv\" # \"movielens_1m.csv\" , \"naver_movie_dataset_100k.csv\"\n",
    "train_data, valid_data, test_data = load_data(dataset, implicit=False)\n",
    "\n",
    "\"\"\"\n",
    "model training\n",
    "\"\"\"\n",
    "print(\"model training...\")\n",
    "time_start = time()\n",
    "mf = MF_explicit(train=np.copy(train_data), valid=valid_data, n_features=10)\n",
    "biasedmf = BiasedMF_explicit(train=np.copy(train_data), valid=valid_data, n_features=10)\n",
    "svdpp = SVDpp_explicit(train=np.copy(train_data), valid=valid_data, n_features=10)\n",
    "\n",
    "mf.fit()\n",
    "biasedmf.fit()\n",
    "svdpp.fit()\n",
    "print(\"training time: \", time()-time_start)\n",
    "\"\"\"\n",
    "model evaluation\n",
    "\"\"\"\n",
    "print(\"model evaluation\")\n",
    "mf_rmse = eval_explicit(mf, train_data, test_data)\n",
    "biasedmf_rmse = eval_explicit(biasedmf, train_data, test_data)\n",
    "svdpp_rmse = eval_explicit(svdpp, train_data, test_data)\n",
    "print(\"evaluation time: \", time()-time_start)\n",
    "\n",
    "print(\"RMSE on Test Data\")\n",
    "print(\"MF: %f\"%(mf_rmse))\n",
    "print(\"BiasedMF: %f\"%(biasedmf_rmse))\n",
    "print(\"SVD++: %f\"%(svdpp_rmse))\n",
    "\n"
   ]
  },
  {
   "cell_type": "markdown",
   "id": "2663770a",
   "metadata": {},
   "source": [
    "# Search.py"
   ]
  },
  {
   "cell_type": "code",
   "execution_count": 2,
   "id": "668d53f6",
   "metadata": {},
   "outputs": [
    {
     "name": "stdout",
     "output_type": "stream",
     "text": [
      "# of users: 6040,  # of items: 3706,  # of ratings: 1000209\n",
      "BiasedMF RSME (rank=1):  0.9132231920294599\n",
      "BiasedMF RSME (rank=10):  0.8842474094803707\n",
      "BiasedMF RSME (rank=100):  0.8361730496916066\n",
      "BiasedMF RSME (rank=1000):  1.0162354962377491\n",
      "BiasedMF RSME (rank=2000):  1.1736006712530431\n",
      "SVD++ RSME (rank=1):  14.953892811307245\n",
      "SVD++ RSME (rank=10):  14.953892811307245\n",
      "SVD++ RSME (rank=100):  14.953892811307245\n",
      "SVD++ RSME (rank=1000):  14.953892811307245\n",
      "SVD++ RSME (rank=2000):  14.953892811307245\n"
     ]
    },
    {
     "data": {
      "image/png": "[encoded data removed]",
      "text/plain": [
       "<Figure size 432x288 with 1 Axes>"
      ]
     },
     "metadata": {
      "needs_background": "light"
     },
     "output_type": "display_data"
    }
   ],
   "source": [
    "# 기본 패키지 import\n",
    "import numpy as np\n",
    "from utils import load_data\n",
    "from utils import eval_explicit\n",
    "import warnings\n",
    "import random\n",
    "import warnings\n",
    "\n",
    "import numpy as np\n",
    "import random\n",
    "import matplotlib.pyplot as plt\n",
    "\n",
    "import torch\n",
    "\n",
    "\n",
    "warnings.filterwarnings('ignore')\n",
    "\n",
    "def seed_everything(random_seed):\n",
    "    np.random.seed(random_seed)\n",
    "    torch.manual_seed(random_seed)\n",
    "    torch.cuda.manual_seed(random_seed)\n",
    "    torch.cuda.manual_seed_all(random_seed)\n",
    "    torch.backends.cudnn.deterministic = True\n",
    "    torch.backends.cudnn.benchmark = False\n",
    "    np.random.seed(random_seed)\n",
    "    random.seed(random_seed)\n",
    "\n",
    "seed = 1\n",
    "seed_everything(seed)\n",
    "\n",
    "from models.BiasedMF_explicit import BiasedMF_explicit\n",
    "from models.SVDpp_explicit import SVDpp_explicit\n",
    "\n",
    "\"\"\"\n",
    "dataset loading\n",
    "\"\"\"\n",
    "dataset = \"movielens_1m.csv\" # \"naver_movie_dataset_100k.csv\", \"movielens_1m.csv\"\n",
    "train_data, valid_data, test_data = load_data(dataset, implicit=False)\n",
    "\n",
    "# ========================= EDIT HERE ========================\n",
    "\"\"\"\n",
    "Specify values of the parameter to search.\n",
    "\"\"\"\n",
    "_rank = [1, 10, 100, 1000, 2000]\n",
    "# ============================================================\n",
    "\n",
    "\n",
    "biased_mf_test_rmse = []\n",
    "for i, space in enumerate(_rank):\n",
    "    model = BiasedMF_explicit(train=np.copy(train_data), valid=valid_data, n_features=space)\n",
    "\n",
    "    model.fit()\n",
    "    rmse = eval_explicit(model, train_data+valid_data, test_data)\n",
    "\n",
    "    print(\"BiasedMF RSME (rank=%d): \" % space, rmse)\n",
    "    biased_mf_test_rmse.append(rmse)\n",
    "\n",
    "\n",
    "SVDpp_test_rmse = []\n",
    "for i, space in enumerate(_rank):\n",
    "    model = SVDpp_explicit(train=np.copy(train_data), valid=valid_data, n_features=space)\n",
    "\n",
    "    model.fit()\n",
    "    rmse = eval_explicit(model, train_data+valid_data, test_data)\n",
    "\n",
    "    print(\"SVD++ RSME (rank=%d): \" % space, rmse)\n",
    "    SVDpp_test_rmse.append(rmse)\n",
    "\n",
    "\"\"\"\n",
    "Draw scatter plot of search results.\n",
    "- X-axis: search paramter\n",
    "- Y-axis: RMSE (Train, Test respectively)\n",
    "\n",
    "Put title, X-axis name, Y-axis name in your plot.\n",
    "\n",
    "Resources\n",
    "------------\n",
    "Official document: https://matplotlib.org/3.2.1/api/_as_gen/matplotlib.pyplot.scatter.html\n",
    "\"Data Visualization in Python\": https://medium.com/python-pandemonium/data-visualization-in-python-scatter-plots-in-matplotlib-da90ac4c99f9\n",
    "\"\"\"\n",
    "\n",
    "num_space = len(_rank)\n",
    "plt.scatter(_rank, biased_mf_test_rmse, label='BiasedMF', marker='x', s=150)\n",
    "plt.scatter(_rank, SVDpp_test_rmse, label='SVD++', marker='o', s=150)\n",
    "plt.legend()\n",
    "plt.title('Search results')\n",
    "plt.xlabel('k')\n",
    "plt.ylabel('RMSE')\n",
    "plt.savefig('Search results.png')\n"
   ]
  },
  {
   "cell_type": "code",
   "execution_count": null,
   "id": "d91eef20",
   "metadata": {},
   "outputs": [],
   "source": []
  }
 ],
 "metadata": {
  "kernelspec": {
   "display_name": "Python 3 (ipykernel)",
   "language": "python",
   "name": "python3"
  },
  "language_info": {
   "codemirror_mode": {
    "name": "ipython",
    "version": 3
   },
   "file_extension": ".py",
   "mimetype": "text/x-python",
   "name": "python",
   "nbconvert_exporter": "python",
   "pygments_lexer": "ipython3",
   "version": "3.9.7"
  }
 },
 "nbformat": 4,
 "nbformat_minor": 5
}
